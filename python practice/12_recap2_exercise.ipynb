{
 "cells": [
  {
   "cell_type": "markdown",
   "metadata": {},
   "source": [
    "# 1. [Rock-paper-scissors](https://en.wikipedia.org/wiki/Rock%E2%80%93paper%E2%80%93scissors) \n",
    "Implement `rock_paper_scissors` function which takes the player's rock-paper-scissors choice as an input (as integer), randomly selects the choice of the computer and reveals it (prints) and finally announces (prints) the result. The function should return `PLAYER_WINS`, `COMPUTER_WINS` or `TIE`."
   ]
  },
  {
   "cell_type": "code",
   "execution_count": 54,
   "metadata": {
    "editable": false
   },
   "outputs": [],
   "source": [
    "# Constants, you should use these in your implementation\n",
    "ROCK = 1\n",
    "PAPER = 2\n",
    "SCISSORS = 3\n",
    "\n",
    "PLAYER_WINS = 'Player wins!! Woop woop!'\n",
    "COMPUTER_WINS = 'Robocop wins :-('\n",
    "TIE = \"It's a tie!\""
   ]
  },
  {
   "cell_type": "code",
   "execution_count": 55,
   "metadata": {},
   "outputs": [],
   "source": [
    "import random\n",
    "def rock_paper_scissors(player_choice):\n",
    "    #pdb.set_trace()\n",
    "    choices=[1,2,3]\n",
    "    result=str()\n",
    "    ai_choice=random.choice(choices)\n",
    "    if player_choice == ai_choice:\n",
    "        return TIE\n",
    "    elif player_choice==1:\n",
    "        if ai_choice==2:\n",
    "            return COMPUTER_WINS\n",
    "        else:\n",
    "            return PLAYER_WINS\n",
    "    elif player_choice==2:\n",
    "        if ai_choice==3:\n",
    "            return COMPUTER_WINS\n",
    "        else:\n",
    "            return PLAYER_WINS\n",
    "    elif player_choice==3:\n",
    "        if ai_choice==1:\n",
    "            return COMPUTER_WINS\n",
    "        else:\n",
    "            return PLAYER_WINS      "
   ]
  },
  {
   "cell_type": "markdown",
   "metadata": {},
   "source": [
    "Once you have finished the implementation of `rock_paper_scissors` function, you can check if it works as expected by playing the game:"
   ]
  },
  {
   "cell_type": "code",
   "execution_count": 56,
   "metadata": {},
   "outputs": [
    {
     "name": "stdout",
     "output_type": "stream",
     "text": [
      "Welcome to play rock-paper-scissors\n",
      "The options are:\n",
      "rock: 1\n",
      "paper: 2\n",
      "scissors: 3\n",
      "Give your choice\n",
      "3\n"
     ]
    }
   ],
   "source": [
    "def play_rps():\n",
    "    print('Welcome to play rock-paper-scissors')\n",
    "    print('The options are:\\nrock: 1\\npaper: 2\\nscissors: 3')\n",
    "\n",
    "    result = TIE\n",
    "    while result == TIE:\n",
    "        player_choice = input('Give your choice\\n')\n",
    "        \n",
    "        if not player_choice in ['1', '2', '3']:\n",
    "            print('Invalid choice')\n",
    "            continue\n",
    "            \n",
    "        result = rock_paper_scissors(int(player_choice))\n",
    "        \n",
    "if __name__ == '__main__':\n",
    "    play_rps()"
   ]
  }
 ],
 "metadata": {
  "kernelspec": {
   "display_name": "Python 3",
   "language": "python",
   "name": "python3"
  },
  "language_info": {
   "codemirror_mode": {
    "name": "ipython",
    "version": 3
   },
   "file_extension": ".py",
   "mimetype": "text/x-python",
   "name": "python",
   "nbconvert_exporter": "python",
   "pygments_lexer": "ipython3",
   "version": "3.8.8"
  }
 },
 "nbformat": 4,
 "nbformat_minor": 2
}
